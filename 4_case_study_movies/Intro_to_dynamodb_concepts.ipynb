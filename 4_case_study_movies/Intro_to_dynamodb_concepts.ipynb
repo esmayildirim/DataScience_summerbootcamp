{
 "cells": [
  {
   "cell_type": "markdown",
   "id": "b185a17f",
   "metadata": {},
   "source": [
    "# Core Components of DynamoDB\n",
    "\n",
    "### Source: AWS Developer Guide\n",
    "\n",
    "In DynamoDB, tables, items, and attributes are the core components that you work with. A table is a collection of items, and each item is a collection of attributes. DynamoDB uses primary keys to uniquely identify each item in a table and secondary indexes to provide more querying flexibility.\n",
    "\n"
   ]
  },
  {
   "cell_type": "markdown",
   "id": "f4dffa7a",
   "metadata": {},
   "source": [
    "## Tables, Items, and Attributes\n",
    "\n",
    "The following are the basic DynamoDB components:\n",
    "\n",
    "- Tables – Similar to other database systems, DynamoDB stores data in tables. A table is a collection of data. For example, see the example table called People that you could use to store personal contact information about friends, family, or anyone else of interest. You could also have a Cars table to store information about vehicles that people drive.\n",
    "- Items – Each table contains zero or more items. An item is a group of attributes that is uniquely identifiable among all of the other items. In a People table, each item represents a person. For a Cars table, each item represents one vehicle. Items in DynamoDB are similar in many ways to rows, records, or tuples in other database systems. In DynamoDB, there is no limit to the number of items you can store in a table.\n",
    "- Attributes – Each item is composed of one or more attributes. An attribute is a fundamental data element, something that does not need to be broken down any further. For example, an item in a People table contains attributes called PersonID, LastName, FirstName, and so on. For a Department table, an item might have attributes such as DepartmentID, Name, Manager, and so on. Attributes in DynamoDB are similar in many ways to fields or columns in other database systems.\n",
    "\n",
    "The following diagram shows a table named People with some example items and attributes.\n",
    "\n",
    "![People](HowItWorksPeople.png)\n",
    "\n",
    "Note the following about the People table:\n",
    "\n",
    "- Each item in the table has a unique identifier, or primary key, that distinguishes the item from all of the others in the table. In the People table, the primary key consists of one attribute (PersonID).\n",
    "- Other than the primary key, the People table is schemaless, which means that neither the attributes nor their data types need to be defined beforehand. Each item can have its own distinct attributes.\n",
    "- Most of the attributes are scalar, which means that they can have only one value. Strings and numbers are common examples of scalars.\n",
    "- Some of the items have a nested attribute (Address). DynamoDB supports nested attributes up to 32 levels deep.\n",
    "\n"
   ]
  },
  {
   "cell_type": "markdown",
   "id": "aedaa339",
   "metadata": {},
   "source": [
    "The following is another example table named Music that you could use to keep track of your music collection.\n",
    "![Music](HowItWorksMusic.png)\n",
    "\n",
    "\n",
    "Note the following about the Music table:\n",
    "\n",
    "- The primary key for Music consists of two attributes (Artist and SongTitle). Each item in the table must have these two attributes. The combination of Artist and SongTitle distinguishes each item in the table from all of the others.\n",
    "- Other than the primary key, the Music table is schemaless, which means that neither the attributes nor their data types need to be defined beforehand. Each item can have its own distinct attributes.\n",
    "- One of the items has a nested attribute (PromotionInfo), which contains other nested attributes. DynamoDB supports nested attributes up to 32 levels deep."
   ]
  },
  {
   "cell_type": "markdown",
   "id": "482e2e86",
   "metadata": {},
   "source": [
    "## Primary Key\n",
    "\n",
    "When you create a table, in addition to the table name, you must specify the primary key of the table. The primary key uniquely identifies each item in the table, so that no two items can have the same key.\n",
    "\n",
    "DynamoDB supports two different kinds of primary keys:\n",
    "\n",
    "- Partition key – A simple primary key, composed of one attribute known as the partition key.\n",
    "\n",
    "DynamoDB uses the partition key's value as input to an internal hash function. The output from the hash function determines the partition (physical storage internal to DynamoDB) in which the item will be stored.\n",
    "In a table that has only a partition key, no two items can have the same partition key value.\n",
    "\n",
    "The People table described in Tables, Items, and Attributes is an example of a table with a simple primary key (PersonID). You can access any item in the People table directly by providing the PersonId value for that item.\n",
    "\n",
    "- Partition key and sort key – Referred to as a composite primary key, this type of key is composed of two attributes. The first attribute is the partition key, and the second attribute is the sort key.\n",
    "\n",
    "DynamoDB uses the partition key value as input to an internal hash function. The output from the hash function determines the partition (physical storage internal to DynamoDB) in which the item will be stored. All items with the same partition key value are stored together, in sorted order by sort key value.\n",
    "\n",
    "In a table that has a partition key and a sort key, it's possible for multiple items to have the same partition key value. However, those items must have different sort key values.\n",
    "\n",
    "The Music table described in Tables, Items, and Attributes is an example of a table with a composite primary key (Artist and SongTitle). You can access any item in the Music table directly, if you provide the Artist and SongTitle values for that item.\n",
    "\n",
    "A composite primary key gives you additional flexibility when querying data. For example, if you provide only the value for Artist, DynamoDB retrieves all of the songs by that artist. To retrieve only a subset of songs by a particular artist, you can provide a value for Artist along with a range of values for SongTitle."
   ]
  },
  {
   "cell_type": "markdown",
   "id": "94f5b4bf",
   "metadata": {},
   "source": [
    "<b>Note</b>:\n",
    "\n",
    "`The partition key of an item is also known as its hash attribute. The term hash attribute derives from the use of an internal hash function in DynamoDB that evenly distributes data items across partitions, based on their partition key values.`\n",
    "\n",
    "`The sort key of an item is also known as its range attribute. The term range attribute derives from the way DynamoDB stores items with the same partition key physically close together, in sorted order by the sort key value.`\n",
    "\n",
    "Each primary key attribute must be a scalar (meaning that it can hold only a single value). The only data types allowed for primary key attributes are string, number, or binary. There are no such restrictions for other, non-key attributes."
   ]
  },
  {
   "cell_type": "markdown",
   "id": "1049c3a4",
   "metadata": {},
   "source": [
    "## Secondary Indexes\n",
    "\n",
    "You can create one or more secondary indexes on a table. A secondary index lets you query the data in the table using an alternate key, in addition to queries against the primary key. DynamoDB doesn't require that you use indexes, but they give your applications more flexibility when querying your data. After you create a secondary index on a table, you can read data from the index in much the same way as you do from the table.\n",
    "\n",
    "DynamoDB supports two kinds of indexes:\n",
    "\n",
    "- Global secondary index – An index with a partition key and sort key that can be different from those on the table.\n",
    "- Local secondary index – An index that has the same partition key as the table, but a different sort key.\n",
    "\n",
    "Each table in DynamoDB has a quota of 20 global secondary indexes (default quota) and 5 local secondary indexes.\n",
    "\n",
    "In the example Music table shown previously, you can query data items by Artist (partition key) or by Artist and SongTitle (partition key and sort key). What if you also wanted to query the data by Genre and AlbumTitle? To do this, you could create an index on Genre and AlbumTitle, and then query the index in much the same way as you'd query the Music table.\n",
    "\n",
    "The following diagram shows the example Music table, with a new index called GenreAlbumTitle. In the index, Genre is the partition key and AlbumTitle is the sort key.\n",
    "\n",
    "![GenreAlbumTitle](HowItWorksGenreAlbumTitle.png)\n",
    "\n"
   ]
  },
  {
   "cell_type": "markdown",
   "id": "8c868927",
   "metadata": {},
   "source": [
    "Note the following about the GenreAlbumTitle index:\n",
    "\n",
    "- Every index belongs to a table, which is called the base table for the index. In the preceding example, Music is the base table for the GenreAlbumTitle index.\n",
    "- DynamoDB maintains indexes automatically. When you add, update, or delete an item in the base table, DynamoDB adds, updates, or deletes the corresponding item in any indexes that belong to that table.\n",
    "- When you create an index, you specify which attributes will be copied, or projected, from the base table to the index. At a minimum, DynamoDB projects the key attributes from the base table into the index. This is the case with GenreAlbumTitle, where only the key attributes from the Music table are projected into the index.\n",
    "\n",
    "You can query the GenreAlbumTitle index to find all albums of a particular genre (for example, all Rock albums). \n",
    "\n",
    "You can also query the index to find all albums within a particular genre that have certain album titles (for example, all Country albums with titles that start with the letter H)."
   ]
  },
  {
   "cell_type": "code",
   "execution_count": null,
   "id": "e65f1b97",
   "metadata": {},
   "outputs": [],
   "source": []
  }
 ],
 "metadata": {
  "kernelspec": {
   "display_name": "Python 3 (ipykernel)",
   "language": "python",
   "name": "python3"
  },
  "language_info": {
   "codemirror_mode": {
    "name": "ipython",
    "version": 3
   },
   "file_extension": ".py",
   "mimetype": "text/x-python",
   "name": "python",
   "nbconvert_exporter": "python",
   "pygments_lexer": "ipython3",
   "version": "3.8.9"
  }
 },
 "nbformat": 4,
 "nbformat_minor": 5
}
