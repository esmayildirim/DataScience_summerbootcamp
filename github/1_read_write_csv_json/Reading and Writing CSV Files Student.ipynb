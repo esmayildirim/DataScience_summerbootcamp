{
 "cells": [
  {
   "cell_type": "markdown",
   "id": "582c54e3",
   "metadata": {},
   "source": [
    "# Reading and Writing CSV Files\n",
    "\n",
    ".csv files are simple text files where each row is a record and each field in a record is separated with commas. These files can also be opened with spreadsheet programs like Microsoft Excel. Try opening accounts.csv file with Excel.\n",
    "\n",
    "The following command displays the contents of account.csv on a Linux/mac os system."
   ]
  },
  {
   "cell_type": "code",
   "execution_count": 1,
   "id": "3c0b58a6",
   "metadata": {},
   "outputs": [
    {
     "name": "stdout",
     "output_type": "stream",
     "text": [
      "100,Jones,24.98\r",
      "\r\n",
      "200,Doe,345.67\r",
      "\r\n",
      "300,White,0.0\r",
      "\r\n",
      "400,Stone,-42.16\r",
      "\r\n",
      "500,Rich,224.62\r",
      "\r\n"
     ]
    }
   ],
   "source": [
    "!cat accounts.csv"
   ]
  },
  {
   "cell_type": "markdown",
   "id": "16a8888a",
   "metadata": {},
   "source": [
    "Python's `csv` module can be used for reading and writing csv files.\n",
    "\n",
    "## Writing a CSV file"
   ]
  },
  {
   "cell_type": "code",
   "execution_count": 5,
   "id": "f476a5d4",
   "metadata": {},
   "outputs": [],
   "source": [
    "import csv\n",
    "\n",
    "with open('accounts.csv', mode='w', newline='') as accounts:\n",
    "    writer = csv.writer(accounts)\n",
    "    writer.writerow([100, 'Jones', 24.98])\n",
    "    writer.writerow([200, 'Doe', 345.67])\n",
    "    writer.writerow([300, 'White', 0.00])\n",
    "    writer.writerow([400, 'Stone', -42.16])\n",
    "    writer.writerow([500, 'Rich', 224.61])"
   ]
  },
  {
   "cell_type": "code",
   "execution_count": 6,
   "id": "b206e9ae",
   "metadata": {},
   "outputs": [
    {
     "name": "stdout",
     "output_type": "stream",
     "text": [
      "100,Jones,24.98\r",
      "\r\n",
      "200,Doe,345.67\r",
      "\r\n",
      "300,White,0.0\r",
      "\r\n",
      "400,Stone,-42.16\r",
      "\r\n",
      "500,Rich,224.61\r",
      "\r\n"
     ]
    }
   ],
   "source": [
    "!cat accounts.csv"
   ]
  },
  {
   "cell_type": "markdown",
   "id": "c92c171b",
   "metadata": {},
   "source": [
    "* **`.csv` file extension** indicates a CSV-format file\n",
    "* **`writer` function** returns an object that writes CSV data to the specified file object\n",
    "* `writer`’s **`writerow` method** receives an iterable to store in the file\n",
    "* By default, `writerow` delimits values with commas, but you can specify custom delimiters\n",
    "* `writerow` calls above can be replaced with one **`writerows`** call that outputs a comma-separated list of iterables representing the records\n",
    "* If you write data that contains commas in a given string, `writerow` encloses that string in double quotes to indicate a _single_ value\n",
    "\n",
    "## Reading a CSV file"
   ]
  },
  {
   "cell_type": "code",
   "execution_count": 8,
   "id": "ceeb2f54",
   "metadata": {},
   "outputs": [
    {
     "name": "stdout",
     "output_type": "stream",
     "text": [
      "Account   Name         Balance\n",
      "100       Jones          24.98\n",
      "200       Doe           345.67\n",
      "300       White            0.0\n",
      "400       Stone         -42.16\n",
      "500       Rich          224.61\n"
     ]
    }
   ],
   "source": [
    "with open('accounts.csv', 'r', newline='') as accounts:\n",
    "    print(f'{\"Account\":<10}{\"Name\":<10}{\"Balance\":>10}')\n",
    "    reader = csv.reader(accounts)\n",
    "    for record in reader:  \n",
    "        account, name, balance = record\n",
    "        print(f'{account:<10}{name:<10}{balance:>10}')"
   ]
  },
  {
   "cell_type": "markdown",
   "id": "083681f9",
   "metadata": {},
   "source": [
    "* `csv` module’s **`reader` function** returns an object that reads CSV-format data from the specified file object\n",
    "* Can iterate through the `reader` object one record of comma-delimited values at a time"
   ]
  },
  {
   "cell_type": "markdown",
   "id": "4f70af8b",
   "metadata": {},
   "source": [
    "## Exercise 1: \n",
    "\n",
    "In this exercise, you will create the personnel file of a company using CSV file format. Each personnel record will contain firstname, lastname, position, age and salary fields. While firstname, lastname and position fields are strings, age is an integer and salary is a float. \n",
    "\n",
    "Create a file named `personnel.csv`. Write the column names as first row. Write 5 records in it. Display the contents with `cat`(`more` command if Windows) command.\n",
    "\n",
    "Use python code to read the file and display in tabular format with proper column headers. "
   ]
  },
  {
   "cell_type": "code",
   "execution_count": 9,
   "id": "1a9262d5",
   "metadata": {},
   "outputs": [],
   "source": []
  },
  {
   "cell_type": "markdown",
   "id": "da6306e9",
   "metadata": {},
   "source": [
    "## Reading CSV Files to a Pandas DataFrame object\n",
    "\n",
    "* Load a CSV dataset into a `DataFrame` with the pandas function **`read_csv`**\n",
    "* `names` argument specifies the `DataFrame`’s column names\n",
    "    * Without this argument, `read_csv` assumes that the CSV file’s first row is a comma-delimited list of column names"
   ]
  },
  {
   "cell_type": "code",
   "execution_count": null,
   "id": "d9be052c",
   "metadata": {},
   "outputs": [],
   "source": [
    "import pandas as pd\n",
    "df = pd.read_csv('accounts.csv', \n",
    "                 names=['account', 'name', 'balance'])\n",
    "print(df)"
   ]
  },
  {
   "cell_type": "markdown",
   "id": "d26bf3ae",
   "metadata": {},
   "source": [
    "## Selecting a column\n",
    "\n",
    "A column can be selected as a series object by providing the column name."
   ]
  },
  {
   "cell_type": "code",
   "execution_count": null,
   "id": "54014d88",
   "metadata": {},
   "outputs": [],
   "source": [
    "names = df['name']\n",
    "for i in names:\n",
    "    print(i)"
   ]
  },
  {
   "cell_type": "markdown",
   "id": "26b4e226",
   "metadata": {},
   "source": [
    "## Creating a Calculated Column\n",
    "\n",
    "A new column can be calculated from an existing column."
   ]
  },
  {
   "cell_type": "code",
   "execution_count": null,
   "id": "d4fdb200",
   "metadata": {},
   "outputs": [],
   "source": [
    "# creating a calculated column\n",
    "df['new_balance'] = df['balance'] + 100\n",
    "\n",
    "print(df)"
   ]
  },
  {
   "cell_type": "markdown",
   "id": "e182dd58",
   "metadata": {},
   "source": [
    "## Traverse the DataFrame using `loc`\n",
    "\n",
    "`loc` structure can be used to get a single row of a DataFrame. count function returns the number of items in a column. It is a function of Series type of objects."
   ]
  },
  {
   "cell_type": "code",
   "execution_count": null,
   "id": "6a67bc83",
   "metadata": {},
   "outputs": [],
   "source": [
    "for i in range(df['account'].count()):\n",
    "    account, name, balance, new_balance = df.loc[i]\n",
    "    print(account)\n",
    "    \n",
    "# creating a subset of columns with only name and balance columns\n",
    "\n",
    "dfsub = df.loc[:,['name','balance']]\n",
    "print(dfsub)"
   ]
  },
  {
   "cell_type": "markdown",
   "id": "798de924",
   "metadata": {},
   "source": [
    "## Filtering Rows\n",
    "\n",
    "You can select a subset of rows by providing a condition"
   ]
  },
  {
   "cell_type": "code",
   "execution_count": null,
   "id": "99646955",
   "metadata": {},
   "outputs": [],
   "source": [
    "# dataframe only contains where balance is greater than 200\n",
    "dfbalance = df[df['balance']>200]\n",
    "\n",
    "print(dfbalance)"
   ]
  },
  {
   "cell_type": "markdown",
   "id": "a0ecddd2",
   "metadata": {},
   "source": [
    "## Writing DataFrame object to CSV file\n",
    "* To save a `DataFrame` to a file using CSV format, call `DataFrame` method **`to_csv`**\n",
    "* `index=False` indicates that the row names (`0`–`4` at the left of the `DataFrame`’s output above are not written to the file\n",
    "* Resulting file contains the column names as the first row"
   ]
  },
  {
   "cell_type": "code",
   "execution_count": null,
   "id": "36e217f9",
   "metadata": {},
   "outputs": [],
   "source": [
    "df.to_csv('accounts_from_dataframe.csv', index=False)"
   ]
  },
  {
   "cell_type": "markdown",
   "id": "3a694e60",
   "metadata": {},
   "source": [
    "## Here Are Some Datasets\n",
    "\n",
    "### Datasets\n",
    "* Enormous variety of free datasets available online\n",
    "* **Rdatasets repository** provides links to over 1100 free datasets in comma-separated values (CSV) format\n",
    "> https://vincentarelbundock.github.io/Rdatasets/datasets.html\n",
    "* **`pydataset` module** specifically for accessing Rdatasets\n",
    "> https://github.com/iamaziz/PyDataset\n",
    "* Another large source of datasets is\n",
    "> https://github.com/awesomedata/awesome-public-datasets\n",
    "* A commonly used machine-learning dataset for beginners is the **Titanic disaster dataset**"
   ]
  },
  {
   "cell_type": "markdown",
   "id": "b6d5c039",
   "metadata": {},
   "source": [
    "## Exercise 2\n",
    "\n",
    "- Download the TitanicSurvival.csv dataset.\n",
    "- Open it with a notepad type program and change the first column name to \"name\".\n",
    "- Read the csv file into a DataFrame.\n",
    "- Print only 'name' column\n",
    "- Titanic sank in 1912. Create a calculated column 'birthyear' from the 'age' column by subtracting it from 1912.\n",
    "- Create a dataframe with only alive passengers\n",
    "- Create a dataframe with only first class passengers\n",
    "- Create a dataframe with only name and sex columns. Write this dataframe to a CSV file. \n",
    "\n",
    "\n"
   ]
  },
  {
   "cell_type": "code",
   "execution_count": null,
   "id": "a343d5dd",
   "metadata": {},
   "outputs": [],
   "source": []
  }
 ],
 "metadata": {
  "kernelspec": {
   "display_name": "Python 3 (ipykernel)",
   "language": "python",
   "name": "python3"
  },
  "language_info": {
   "codemirror_mode": {
    "name": "ipython",
    "version": 3
   },
   "file_extension": ".py",
   "mimetype": "text/x-python",
   "name": "python",
   "nbconvert_exporter": "python",
   "pygments_lexer": "ipython3",
   "version": "3.8.9"
  }
 },
 "nbformat": 4,
 "nbformat_minor": 5
}
